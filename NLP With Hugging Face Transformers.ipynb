{
  "nbformat": 4,
  "nbformat_minor": 0,
  "metadata": {
    "colab": {
      "provenance": []
    },
    "kernelspec": {
      "name": "python3",
      "display_name": "Python 3"
    },
    "language_info": {
      "name": "python"
    }
  },
  "cells": [
    {
      "cell_type": "code",
      "source": [
        "!pip install transformers"
      ],
      "metadata": {
        "colab": {
          "base_uri": "https://localhost:8080/"
        },
        "id": "cSiOq4EGJ7Oo",
        "outputId": "1c759204-3c08-4511-bc0c-47ad96312bca"
      },
      "execution_count": 16,
      "outputs": [
        {
          "output_type": "stream",
          "name": "stdout",
          "text": [
            "Requirement already satisfied: transformers in /usr/local/lib/python3.10/dist-packages (4.44.2)\n",
            "Requirement already satisfied: filelock in /usr/local/lib/python3.10/dist-packages (from transformers) (3.16.1)\n",
            "Requirement already satisfied: huggingface-hub<1.0,>=0.23.2 in /usr/local/lib/python3.10/dist-packages (from transformers) (0.24.7)\n",
            "Requirement already satisfied: numpy>=1.17 in /usr/local/lib/python3.10/dist-packages (from transformers) (1.26.4)\n",
            "Requirement already satisfied: packaging>=20.0 in /usr/local/lib/python3.10/dist-packages (from transformers) (24.1)\n",
            "Requirement already satisfied: pyyaml>=5.1 in /usr/local/lib/python3.10/dist-packages (from transformers) (6.0.2)\n",
            "Requirement already satisfied: regex!=2019.12.17 in /usr/local/lib/python3.10/dist-packages (from transformers) (2024.9.11)\n",
            "Requirement already satisfied: requests in /usr/local/lib/python3.10/dist-packages (from transformers) (2.32.3)\n",
            "Requirement already satisfied: safetensors>=0.4.1 in /usr/local/lib/python3.10/dist-packages (from transformers) (0.4.5)\n",
            "Requirement already satisfied: tokenizers<0.20,>=0.19 in /usr/local/lib/python3.10/dist-packages (from transformers) (0.19.1)\n",
            "Requirement already satisfied: tqdm>=4.27 in /usr/local/lib/python3.10/dist-packages (from transformers) (4.66.6)\n",
            "Requirement already satisfied: fsspec>=2023.5.0 in /usr/local/lib/python3.10/dist-packages (from huggingface-hub<1.0,>=0.23.2->transformers) (2024.10.0)\n",
            "Requirement already satisfied: typing-extensions>=3.7.4.3 in /usr/local/lib/python3.10/dist-packages (from huggingface-hub<1.0,>=0.23.2->transformers) (4.12.2)\n",
            "Requirement already satisfied: charset-normalizer<4,>=2 in /usr/local/lib/python3.10/dist-packages (from requests->transformers) (3.4.0)\n",
            "Requirement already satisfied: idna<4,>=2.5 in /usr/local/lib/python3.10/dist-packages (from requests->transformers) (3.10)\n",
            "Requirement already satisfied: urllib3<3,>=1.21.1 in /usr/local/lib/python3.10/dist-packages (from requests->transformers) (2.2.3)\n",
            "Requirement already satisfied: certifi>=2017.4.17 in /usr/local/lib/python3.10/dist-packages (from requests->transformers) (2024.8.30)\n"
          ]
        }
      ]
    },
    {
      "cell_type": "code",
      "source": [
        "!pip install torch pandas numpy"
      ],
      "metadata": {
        "colab": {
          "base_uri": "https://localhost:8080/"
        },
        "id": "Nx5wCnvpSZlI",
        "outputId": "9adadb00-caa3-41c6-8bae-9d66ec8fa03b"
      },
      "execution_count": 17,
      "outputs": [
        {
          "output_type": "stream",
          "name": "stdout",
          "text": [
            "Requirement already satisfied: torch in /usr/local/lib/python3.10/dist-packages (2.5.0+cu121)\n",
            "Requirement already satisfied: pandas in /usr/local/lib/python3.10/dist-packages (2.2.2)\n",
            "Requirement already satisfied: numpy in /usr/local/lib/python3.10/dist-packages (1.26.4)\n",
            "Requirement already satisfied: filelock in /usr/local/lib/python3.10/dist-packages (from torch) (3.16.1)\n",
            "Requirement already satisfied: typing-extensions>=4.8.0 in /usr/local/lib/python3.10/dist-packages (from torch) (4.12.2)\n",
            "Requirement already satisfied: networkx in /usr/local/lib/python3.10/dist-packages (from torch) (3.4.2)\n",
            "Requirement already satisfied: jinja2 in /usr/local/lib/python3.10/dist-packages (from torch) (3.1.4)\n",
            "Requirement already satisfied: fsspec in /usr/local/lib/python3.10/dist-packages (from torch) (2024.10.0)\n",
            "Requirement already satisfied: sympy==1.13.1 in /usr/local/lib/python3.10/dist-packages (from torch) (1.13.1)\n",
            "Requirement already satisfied: mpmath<1.4,>=1.1.0 in /usr/local/lib/python3.10/dist-packages (from sympy==1.13.1->torch) (1.3.0)\n",
            "Requirement already satisfied: python-dateutil>=2.8.2 in /usr/local/lib/python3.10/dist-packages (from pandas) (2.8.2)\n",
            "Requirement already satisfied: pytz>=2020.1 in /usr/local/lib/python3.10/dist-packages (from pandas) (2024.2)\n",
            "Requirement already satisfied: tzdata>=2022.7 in /usr/local/lib/python3.10/dist-packages (from pandas) (2024.2)\n",
            "Requirement already satisfied: six>=1.5 in /usr/local/lib/python3.10/dist-packages (from python-dateutil>=2.8.2->pandas) (1.16.0)\n",
            "Requirement already satisfied: MarkupSafe>=2.0 in /usr/local/lib/python3.10/dist-packages (from jinja2->torch) (3.0.2)\n"
          ]
        }
      ]
    },
    {
      "cell_type": "markdown",
      "source": [
        "**Zero-Shot Classification**\n",
        "Lu bisa klasifikasi text tanpa perlu bikin dataset atau training. Nih contoh :"
      ],
      "metadata": {
        "id": "RGg8jcF2KIRx"
      }
    },
    {
      "cell_type": "code",
      "source": [
        "from transformers import pipeline\n",
        "\n",
        "classifier = pipeline(\"zero-shot-classification\")\n",
        "\n",
        "# Teks yang ingin diklasifikasikan\n",
        "teks = \"Saya sedang belajar tentang algoritma dalam mata kuliah pemrograman.\"\n",
        "\n",
        "# Label yang sesuai untuk mahasiswa IT\n",
        "label = [\"pendidikan\", \"pemrograman\", \"teknologi\", \"bisnis\", \"sosial\"]\n",
        "\n",
        "# Klasifikasi\n",
        "hasil = classifier(teks, candidate_labels=label)\n",
        "\n",
        "# Menampilkan hasil\n",
        "print(f\"Teks: '{teks}'\")\n",
        "print(f\"Label: {hasil['labels']}\")\n",
        "print(f\"Skor: {hasil['scores']}\")\n"
      ],
      "metadata": {
        "colab": {
          "base_uri": "https://localhost:8080/"
        },
        "id": "cWncmAkHKB-a",
        "outputId": "6bfc3370-f799-4840-d239-f053909a674b"
      },
      "execution_count": 34,
      "outputs": [
        {
          "output_type": "stream",
          "name": "stderr",
          "text": [
            "No model was supplied, defaulted to facebook/bart-large-mnli and revision c626438 (https://huggingface.co/facebook/bart-large-mnli).\n",
            "Using a pipeline without specifying a model name and revision in production is not recommended.\n"
          ]
        },
        {
          "output_type": "stream",
          "name": "stdout",
          "text": [
            "Teks: 'Saya sedang belajar tentang algoritma dalam mata kuliah pemrograman.'\n",
            "Label: ['pemrograman', 'pendidikan', 'teknologi', 'sosial', 'bisnis']\n",
            "Skor: [0.6659345030784607, 0.14145204424858093, 0.0786203071475029, 0.05756441876292229, 0.05642872676253319]\n"
          ]
        }
      ]
    },
    {
      "cell_type": "markdown",
      "source": [
        "**Text Generation**\n",
        "Yang ini bisa lu pake buat auto-generate content."
      ],
      "metadata": {
        "id": "pxm2xZBnK945"
      }
    },
    {
      "cell_type": "code",
      "source": [
        "from transformers import pipeline\n",
        "\n",
        "generator = pipeline(\"text-generation\", model=\"distilgpt2\", truncation=True)\n",
        "\n",
        "prompt = \"Tips for learning programming for beginners in Python are\"\n",
        "hasil = generator(\n",
        "    prompt,\n",
        "    max_length=100,\n",
        "    num_return_sequences=3,\n",
        "    temperature=0.7,\n",
        "    top_p=0.9,\n",
        "    repetition_penalty=1.2\n",
        ")\n",
        "\n",
        "for h in hasil:\n",
        "    print(h[\"generated_text\"])\n"
      ],
      "metadata": {
        "colab": {
          "base_uri": "https://localhost:8080/"
        },
        "id": "PrA9wNEFTtuO",
        "outputId": "999d528a-57a2-4ac2-b2df-689948c81422"
      },
      "execution_count": 29,
      "outputs": [
        {
          "output_type": "stream",
          "name": "stderr",
          "text": [
            "Setting `pad_token_id` to `eos_token_id`:50256 for open-end generation.\n"
          ]
        },
        {
          "output_type": "stream",
          "name": "stdout",
          "text": [
            "Tips for learning programming for beginners in Python are a great way to learn and improve your skills.\n",
            "The basic idea is that you have learned something new, but still need it on the go or just because there isn't enough time left before its start-up date (or even after) if no one else has done anything useful right now! If this technique works well with some of the other beginner programmers I've come across as an example:\n",
            "Tips for learning programming for beginners in Python are quite easy to learn, so if you have any questions or need help with coding on a different language it is time to take an early look.\n",
            "This tutorial will give beginner information about the basics of basic python and how they can be used without knowing what comes up when creating this program:\n",
            "Tips for learning programming for beginners in Python are here.\n",
            "The most basic tutorial on the language is written by Mike Stahl, a professor at Stanford University and one of the world's leading experts on building software that can solve problems without having to worry about it! In this short article we will show you how to use C# as an example library which uses simple syntax (and does not have any explicit code) with just some syntactic features such like:\n"
          ]
        }
      ]
    },
    {
      "cell_type": "markdown",
      "source": [
        "**QA System**\n",
        "Nah yang ini berguna banget kalo lu mau bikin FAQ bot atau assistant."
      ],
      "metadata": {
        "id": "WUyKiy93LdGd"
      }
    },
    {
      "cell_type": "code",
      "source": [
        "from transformers import pipeline\n",
        "\n",
        "qa = pipeline(\"question-answering\")\n",
        "\n",
        "# Konteks yang mau ditanya\n",
        "context = \"\"\"\n",
        "Elon Musk adalah CEO Tesla dan SpaceX. Dia lahir di Afrika Selatan\n",
        "dan sekarang tinggal di Texas. Dia terkenal karena inovasinya\n",
        "di bidang mobil listrik dan roket luar angkasa.\n",
        "\"\"\"\n",
        "\n",
        "# Coba tanya-tanya\n",
        "pertanyaan = [\n",
        "    \"Siapa Elon Musk?\",\n",
        "    \"Dimana dia lahir?\",\n",
        "    \"Apa yang dia kerjakan?\"\n",
        "]\n",
        "\n",
        "for tanya in pertanyaan:\n",
        "    jawaban = qa(question=tanya, context=context)\n",
        "    print(f\"Q: {tanya}\")\n",
        "    print(f\"A: {jawaban['answer']}\")\n",
        "    print()"
      ],
      "metadata": {
        "colab": {
          "base_uri": "https://localhost:8080/"
        },
        "id": "O4irCUBPMQ9Y",
        "outputId": "7a203a25-c32c-46a0-be7b-214580909dab"
      },
      "execution_count": 19,
      "outputs": [
        {
          "output_type": "stream",
          "name": "stderr",
          "text": [
            "No model was supplied, defaulted to distilbert/distilbert-base-cased-distilled-squad and revision 626af31 (https://huggingface.co/distilbert/distilbert-base-cased-distilled-squad).\n",
            "Using a pipeline without specifying a model name and revision in production is not recommended.\n"
          ]
        },
        {
          "output_type": "stream",
          "name": "stdout",
          "text": [
            "Q: Siapa Elon Musk?\n",
            "A: Tesla dan SpaceX\n",
            "\n",
            "Q: Dimana dia lahir?\n",
            "A: Texas\n",
            "\n",
            "Q: Apa yang dia kerjakan?\n",
            "A: Texas\n",
            "\n"
          ]
        }
      ]
    },
    {
      "cell_type": "markdown",
      "source": [
        "**Machine Translation**\n",
        "Lu bisa pake ini buat translate dokumen atau bikin website multi-bahasa:"
      ],
      "metadata": {
        "id": "P8pSfpSFOuQ_"
      }
    },
    {
      "cell_type": "code",
      "source": [
        "from transformers import pipeline\n",
        "\n",
        "def translate(text, dari_bahasa=\"id\", ke_bahasa=\"en\"):\n",
        "    if dari_bahasa == \"id\" and ke_bahasa == \"en\":\n",
        "        model = \"Helsinki-NLP/opus-mt-id-en\"\n",
        "    else:\n",
        "        model = \"Helsinki-NLP/opus-mt-en-id\"\n",
        "\n",
        "    translator = pipeline(\"translation\", model=model)\n",
        "    hasil = translator(text)\n",
        "    return hasil[0]['translation_text']\n",
        "\n",
        "# Contoh pake\n",
        "teks_indo = \"Gue suka banget ngoding\"\n",
        "print(\"Indo -> Eng:\", translate(teks_indo))\n",
        "\n",
        "teks_eng = \"I love coding so much\"\n",
        "print(\"Eng -> Indo:\", translate(teks_eng, \"en\", \"id\"))"
      ],
      "metadata": {
        "colab": {
          "base_uri": "https://localhost:8080/"
        },
        "id": "wEJPVXx9Os4J",
        "outputId": "89c8511f-c457-4912-f70b-a592733b8fb1"
      },
      "execution_count": 20,
      "outputs": [
        {
          "output_type": "stream",
          "name": "stdout",
          "text": [
            "Indo -> Eng: I love talking.\n",
            "Eng -> Indo: Saya suka coding begitu banyak\n"
          ]
        }
      ]
    },
    {
      "cell_type": "markdown",
      "source": [
        "**Sentiment Analysis**\n",
        "Buat ngecek mood text positif/negatif"
      ],
      "metadata": {
        "id": "RxhzmZ4PS2Cs"
      }
    },
    {
      "cell_type": "code",
      "source": [
        "from transformers import pipeline\n",
        "\n",
        "sentiment = pipeline(\"sentiment-analysis\")\n",
        "\n",
        "# Cek beberapa text\n",
        "texts = [\n",
        "    \"Hari ini happy banget!\",\n",
        "    \"Duh cape deh kerjaannya numpuk\",\n",
        "    \"Lumayan lah better dari kemarin\"\n",
        "]\n",
        "\n",
        "for text in texts:\n",
        "    hasil = sentiment(text)\n",
        "    print(f\"Text: {text}\")\n",
        "    print(f\"Mood: {hasil[0]['label']}\")\n",
        "    print(f\"Score: {hasil[0]['score']:.2f}\")\n",
        "    print()"
      ],
      "metadata": {
        "colab": {
          "base_uri": "https://localhost:8080/"
        },
        "id": "D_ytrpFxVBvA",
        "outputId": "3dd839ad-0446-4c4c-d8ad-fa2bd52950d3"
      },
      "execution_count": 30,
      "outputs": [
        {
          "output_type": "stream",
          "name": "stderr",
          "text": [
            "No model was supplied, defaulted to distilbert/distilbert-base-uncased-finetuned-sst-2-english and revision af0f99b (https://huggingface.co/distilbert/distilbert-base-uncased-finetuned-sst-2-english).\n",
            "Using a pipeline without specifying a model name and revision in production is not recommended.\n"
          ]
        },
        {
          "output_type": "stream",
          "name": "stdout",
          "text": [
            "Text: Hari ini happy banget!\n",
            "Mood: POSITIVE\n",
            "Score: 1.00\n",
            "\n",
            "Text: Duh cape deh kerjaannya numpuk\n",
            "Mood: NEGATIVE\n",
            "Score: 0.99\n",
            "\n",
            "Text: Lumayan lah better dari kemarin\n",
            "Mood: NEGATIVE\n",
            "Score: 0.96\n",
            "\n"
          ]
        }
      ]
    },
    {
      "cell_type": "markdown",
      "source": [
        "**Analisa pribadi**\n",
        "Jadi menurut saya NLP itu basically AI yang main-main sama bahasa kita sehari-hari,\n",
        "Jadi NLP itu dia bisa\n",
        "Nebak-nebak\n",
        "kaya chat ama temen, bisa nebak dia lagi happy atau sad, tau ni kalimat lagi ngomongin apa semisal pendidikan\n",
        "Ngobrol dan jawab\n",
        "Bisa tanya \"Siapa itu elon musk\" dia bisa jawab \"CEO spacex\" kek gitu\n",
        "Nulis bikin konten\n",
        "bisa buat konten dengan dengan limit kata semisal 100 kata gitu\n",
        "Ringkesin text\n",
        "bisa buat summarizer\n",
        "Translate-translate\n",
        "bisa buat translate kalimat dari bahasa ke bahasa lain.\n"
      ],
      "metadata": {
        "id": "7yxyuPafZkAH"
      }
    }
  ]
}